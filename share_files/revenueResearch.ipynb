{
 "cells": [
  {
   "cell_type": "code",
   "execution_count": 1,
   "metadata": {},
   "outputs": [
    {
     "name": "stderr",
     "output_type": "stream",
     "text": [
      "\n",
      "Bad key \"text.kerning_factor\" on line 4 in\n",
      "C:\\Users\\Cody_Black\\Anaconda3\\lib\\site-packages\\matplotlib\\mpl-data\\stylelib\\_classic_test_patch.mplstyle.\n",
      "You probably need to get an updated matplotlibrc file from\n",
      "https://github.com/matplotlib/matplotlib/blob/v3.1.3/matplotlibrc.template\n",
      "or from the matplotlib source distribution\n"
     ]
    }
   ],
   "source": [
    "'''\n",
    "Import packages and display settings\n",
    "'''\n",
    "## supress warnings\n",
    "import warnings\n",
    "warnings.filterwarnings('ignore')\n",
    "import numpy as np\n",
    "import pandas as pd\n",
    "## display settings\n",
    "pd.set_option('display.max_columns', 1000)\n",
    "pd.set_option('display.max_rows', 10000000)\n",
    "pd.set_option('max_info_columns', 10000000)\n",
    "import os\n",
    "## Assign dataset path\n",
    "path_data = 'C:/Users/Cody_Black/JupyterNotebook/Dataset'\n",
    "os.chdir(path_data)\n",
    "## Data viz lib\n",
    "# %matplotlib notebook\n",
    "%matplotlib inline\n",
    "from matplotlib import pyplot as plt\n",
    "import seaborn as sns\n",
    "from matplotlib.pyplot import xticks"
   ]
  },
  {
   "cell_type": "code",
   "execution_count": 2,
   "metadata": {},
   "outputs": [],
   "source": [
    "'''\n",
    "Obtain merging dataframe, df, for this analysis\n",
    "'''\n",
    "\n",
    "%run \"C:/Users/Cody_Black/JupyterNotebook/Datathon/Babson 2020/dataCleaning_revenueResearch.ipynb\""
   ]
  },
  {
   "cell_type": "raw",
   "metadata": {},
   "source": [
    "'''\n",
    "Here we don't need to re-load data sets, but we still keep it here for reference\n",
    "'''\n",
    "\n",
    "df_A_Test = pd.read_excel(open('Babson Hackathon _ Exhibits A _ B.xlsx', 'rb'), sheet_name='Exhibit A | Test Results') \n",
    "df_B_Content = pd.read_excel(open('Babson Hackathon _ Exhibits A _ B.xlsx', 'rb'), sheet_name='Exhibit B | Content Type Defini')  \n",
    "df_ContentRecomm = pd.read_csv('ContentRecommendationData.csv')\n",
    "df_ModuleCount = pd.read_csv('ModuleCountData.csv')\n",
    "# df_Supplier = pd.read_csv('SupplierData.csv')\n",
    "# df_Supplier_UK = pd.read_csv('SupplierData_Wayfair UK.csv')\n",
    "df_Supplier_US = pd.read_csv('SupplierData_Wayfair.csv')"
   ]
  }
 ],
 "metadata": {
  "kernelspec": {
   "display_name": "Python 3",
   "language": "python",
   "name": "python3"
  },
  "language_info": {
   "codemirror_mode": {
    "name": "ipython",
    "version": 3
   },
   "file_extension": ".py",
   "mimetype": "text/x-python",
   "name": "python",
   "nbconvert_exporter": "python",
   "pygments_lexer": "ipython3",
   "version": "3.7.1"
  }
 },
 "nbformat": 4,
 "nbformat_minor": 4
}
